{
 "cells": [
  {
   "cell_type": "code",
   "execution_count": 1,
   "id": "29c6115f-cc43-463c-94a3-c2c76baa5af5",
   "metadata": {},
   "outputs": [],
   "source": [
    "import mlproject"
   ]
  },
  {
   "cell_type": "code",
   "execution_count": null,
   "id": "b5e9eee2-c6fd-483b-a0eb-d2e9dff9db6a",
   "metadata": {},
   "outputs": [],
   "source": []
  }
 ],
 "metadata": {
  "kernelspec": {
   "display_name": "Python 3",
   "language": "python",
   "name": "python3"
  },
  "language_info": {
   "codemirror_mode": {
    "name": "ipython",
    "version": 3
   },
   "file_extension": ".py",
   "mimetype": "text/x-python",
   "name": "python",
   "nbconvert_exporter": "python",
   "pygments_lexer": "ipython3",
   "version": "3.8.6"
  }
 },
 "nbformat": 4,
 "nbformat_minor": 5
}
